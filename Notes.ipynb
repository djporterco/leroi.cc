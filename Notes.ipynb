{
 "cells": [
  {
   "cell_type": "markdown",
   "metadata": {},
   "source": [
    "## LeROI Project\n",
    "> Leroi is surname of French origin, a variant spelling of Leroy which in French literally means \"The King\". It is used both as a given name, and as a surname.\n",
    "> From French le,\n",
    ">ROI Return on Investment (ROI).\n",
    "> **Literally the King of ROI**"
   ]
  },
  {
   "cell_type": "markdown",
   "metadata": {},
   "source": [
    "__________________________________________________________________________________________________________________"
   ]
  },
  {
   "cell_type": "markdown",
   "metadata": {},
   "source": [
    "## Goal"
   ]
  },
  {
   "cell_type": "markdown",
   "metadata": {},
   "source": [
    "- Online interface for viewing crypto related coins and news\n",
    "    - Users can build if-then-then-that conditional alerts * and trading bots **\n",
    "        - trade on Crypto Exchanges **\n",
    "        - AI trading applications **"
   ]
  },
  {
   "cell_type": "markdown",
   "metadata": {},
   "source": [
    "## Features"
   ]
  },
  {
   "cell_type": "markdown",
   "metadata": {},
   "source": [
    "- Full charting\n",
    "    - All coins from popular exchanges\n",
    "    - Technical analysis\n",
    "- Screener\n",
    "- News feed\n",
    "    - news channels\n",
    "        - Main Stream Media\n",
    "        - Crypto specific \n",
    "        - Official / team releases \n",
    "    - social\n",
    "        - twitter\n",
    "        - facebook\n",
    "        - telegram\n",
    "        - etc...\n",
    "- Github activity\n",
    "- Search Trends\n",
    "  - Google Trends\n",
    "  - Social Volume\n",
    "- Regional interests\n",
    "    - ie. Japan, Europe, etc...\n",
    "- If-then-then-that conditional alerts\n",
    "    - on page\n",
    "    - in browser\n",
    "    - text *\n",
    "    - messenger *\n",
    "    - *__trading__ ***\n",
    "- News sentiments\n",
    "- Daily reports on coin activity\n",
    "    - emails\n",
    "    - posts to social channels\n",
    "    - messenger or text\n",
    "- Backtesting **"
   ]
  },
  {
   "cell_type": "markdown",
   "metadata": {},
   "source": [
    "\\* 1st Tier feature\n",
    "\n",
    "** Premium feature\n",
    "\n",
    "All others are basic features"
   ]
  },
  {
   "cell_type": "markdown",
   "metadata": {},
   "source": [
    "## Exposure"
   ]
  },
  {
   "cell_type": "markdown",
   "metadata": {},
   "source": [
    "- Progamaticly create posts and emails based on coin activity\n",
    "    - use trending keyword and hashtags"
   ]
  },
  {
   "cell_type": "markdown",
   "metadata": {},
   "source": [
    "## Revenue sources"
   ]
  },
  {
   "cell_type": "markdown",
   "metadata": {},
   "source": [
    "1. **Subscriptions to features** \n",
    "    - Basic - Free ( must login w/ email or social accounts for conditional notifications)\n",
    "    - 1st Tier - \\\\$29 / mo. \n",
    "    - Premium -  \\\\$99 / mo.\n",
    "        - Billed annually w/ 2 months free ie. \\\\$290 or \\\\$990 / year\n",
    "2. Referals to Exchanges (varies by exchange or service)\n",
    "3. Promotion of events \n",
    "    - TBD \n",
    "        - referal fees\n",
    "        - flat fee\n",
    "        - etc...\n",
    "    - Minimal ads (limited distractions)"
   ]
  },
  {
   "cell_type": "markdown",
   "metadata": {},
   "source": [
    "## Phase I"
   ]
  },
  {
   "cell_type": "markdown",
   "metadata": {},
   "source": [
    "### Goal\n",
    "\n",
    "1. Create narrative posts of market activity\n",
    "    create a message \n",
    "        for market cap \n",
    "        for BTC/USDT trading pair"
   ]
  },
  {
   "cell_type": "markdown",
   "metadata": {},
   "source": [
    "### References"
   ]
  },
  {
   "cell_type": "markdown",
   "metadata": {},
   "source": [
    "https://financetrain.com/best-python-librariespackages-finance-financial-data-scientists/\n",
    "\n",
    "http://finchart.org/"
   ]
  },
  {
   "cell_type": "code",
   "execution_count": null,
   "metadata": {},
   "outputs": [],
   "source": []
  }
 ],
 "metadata": {
  "kernelspec": {
   "display_name": "Python 3",
   "language": "python",
   "name": "python3"
  },
  "language_info": {
   "codemirror_mode": {
    "name": "ipython",
    "version": 3
   },
   "file_extension": ".py",
   "mimetype": "text/x-python",
   "name": "python",
   "nbconvert_exporter": "python",
   "pygments_lexer": "ipython3",
   "version": "3.7.1"
  }
 },
 "nbformat": 4,
 "nbformat_minor": 2
}
